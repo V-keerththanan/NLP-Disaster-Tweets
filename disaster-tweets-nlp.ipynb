{
 "cells": [
  {
   "cell_type": "code",
   "execution_count": 1,
   "id": "2f18503e",
   "metadata": {
    "_cell_guid": "b1076dfc-b9ad-4769-8c92-a6c4dae69d19",
    "_uuid": "8f2839f25d086af736a60e9eeb907d3b93b6e0e5",
    "execution": {
     "iopub.execute_input": "2022-10-14T00:50:22.121276Z",
     "iopub.status.busy": "2022-10-14T00:50:22.120786Z",
     "iopub.status.idle": "2022-10-14T00:50:24.200331Z",
     "shell.execute_reply": "2022-10-14T00:50:24.198858Z"
    },
    "papermill": {
     "duration": 2.095158,
     "end_time": "2022-10-14T00:50:24.204312",
     "exception": false,
     "start_time": "2022-10-14T00:50:22.109154",
     "status": "completed"
    },
    "tags": []
   },
   "outputs": [
    {
     "name": "stdout",
     "output_type": "stream",
     "text": [
      "/kaggle/input/nlp-getting-started/sample_submission.csv\n",
      "/kaggle/input/nlp-getting-started/train.csv\n",
      "/kaggle/input/nlp-getting-started/test.csv\n"
     ]
    }
   ],
   "source": [
    "# This Python 3 environment comes with many helpful analytics libraries installed\n",
    "# It is defined by the kaggle/python Docker image: https://github.com/kaggle/docker-python\n",
    "# For example, here's several helpful packages to load\n",
    "\n",
    "import numpy as np # linear algebra\n",
    "import pandas as pd # data processing, CSV file I/O (e.g. pd.read_csv)\n",
    "import nltk\n",
    "# Input data files are available in the read-only \"../input/\" directory\n",
    "# For example, running this (by clicking run or pressing Shift+Enter) will list all files under the input directory\n",
    "\n",
    "import os\n",
    "for dirname, _, filenames in os.walk('/kaggle/input'):\n",
    "    for filename in filenames:\n",
    "        print(os.path.join(dirname, filename))\n",
    "\n",
    "# You can write up to 20GB to the current directory (/kaggle/working/) that gets preserved as output when you create a version using \"Save & Run All\" \n",
    "# You can also write temporary files to /kaggle/temp/, but they won't be saved outside of the current session"
   ]
  },
  {
   "cell_type": "code",
   "execution_count": 2,
   "id": "dce3f30f",
   "metadata": {
    "execution": {
     "iopub.execute_input": "2022-10-14T00:50:24.223978Z",
     "iopub.status.busy": "2022-10-14T00:50:24.223473Z",
     "iopub.status.idle": "2022-10-14T00:50:24.237530Z",
     "shell.execute_reply": "2022-10-14T00:50:24.236284Z"
    },
    "papermill": {
     "duration": 0.027101,
     "end_time": "2022-10-14T00:50:24.240638",
     "exception": false,
     "start_time": "2022-10-14T00:50:24.213537",
     "status": "completed"
    },
    "tags": []
   },
   "outputs": [],
   "source": [
    "# loading stopwords \n",
    "from nltk.corpus import stopwords\n",
    "stopword = list(stopwords.words('english'))"
   ]
  },
  {
   "cell_type": "code",
   "execution_count": 3,
   "id": "5dde54a5",
   "metadata": {
    "execution": {
     "iopub.execute_input": "2022-10-14T00:50:24.260146Z",
     "iopub.status.busy": "2022-10-14T00:50:24.259287Z",
     "iopub.status.idle": "2022-10-14T00:50:24.270089Z",
     "shell.execute_reply": "2022-10-14T00:50:24.268693Z"
    },
    "papermill": {
     "duration": 0.023832,
     "end_time": "2022-10-14T00:50:24.272928",
     "exception": false,
     "start_time": "2022-10-14T00:50:24.249096",
     "status": "completed"
    },
    "tags": []
   },
   "outputs": [
    {
     "data": {
      "text/plain": [
       "179"
      ]
     },
     "execution_count": 3,
     "metadata": {},
     "output_type": "execute_result"
    }
   ],
   "source": [
    "len(stopword)"
   ]
  },
  {
   "cell_type": "code",
   "execution_count": 4,
   "id": "e949e2ab",
   "metadata": {
    "execution": {
     "iopub.execute_input": "2022-10-14T00:50:24.292583Z",
     "iopub.status.busy": "2022-10-14T00:50:24.291762Z",
     "iopub.status.idle": "2022-10-14T00:50:24.383928Z",
     "shell.execute_reply": "2022-10-14T00:50:24.382736Z"
    },
    "papermill": {
     "duration": 0.106162,
     "end_time": "2022-10-14T00:50:24.387084",
     "exception": false,
     "start_time": "2022-10-14T00:50:24.280922",
     "status": "completed"
    },
    "tags": []
   },
   "outputs": [],
   "source": [
    "#load data \n",
    "TrainSet=pd.read_csv(\"../input/nlp-getting-started/train.csv\")\n",
    "TestSet=pd.read_csv(\"../input/nlp-getting-started/test.csv\")\n",
    "SubSet=pd.read_csv(\"../input/nlp-getting-started/sample_submission.csv\")"
   ]
  },
  {
   "cell_type": "code",
   "execution_count": 5,
   "id": "ad8a3ddc",
   "metadata": {
    "execution": {
     "iopub.execute_input": "2022-10-14T00:50:24.406359Z",
     "iopub.status.busy": "2022-10-14T00:50:24.405510Z",
     "iopub.status.idle": "2022-10-14T00:50:24.426455Z",
     "shell.execute_reply": "2022-10-14T00:50:24.425156Z"
    },
    "papermill": {
     "duration": 0.034858,
     "end_time": "2022-10-14T00:50:24.430067",
     "exception": false,
     "start_time": "2022-10-14T00:50:24.395209",
     "status": "completed"
    },
    "tags": []
   },
   "outputs": [
    {
     "data": {
      "text/html": [
       "<div>\n",
       "<style scoped>\n",
       "    .dataframe tbody tr th:only-of-type {\n",
       "        vertical-align: middle;\n",
       "    }\n",
       "\n",
       "    .dataframe tbody tr th {\n",
       "        vertical-align: top;\n",
       "    }\n",
       "\n",
       "    .dataframe thead th {\n",
       "        text-align: right;\n",
       "    }\n",
       "</style>\n",
       "<table border=\"1\" class=\"dataframe\">\n",
       "  <thead>\n",
       "    <tr style=\"text-align: right;\">\n",
       "      <th></th>\n",
       "      <th>id</th>\n",
       "      <th>keyword</th>\n",
       "      <th>location</th>\n",
       "      <th>text</th>\n",
       "      <th>target</th>\n",
       "    </tr>\n",
       "  </thead>\n",
       "  <tbody>\n",
       "    <tr>\n",
       "      <th>0</th>\n",
       "      <td>1</td>\n",
       "      <td>NaN</td>\n",
       "      <td>NaN</td>\n",
       "      <td>Our Deeds are the Reason of this #earthquake M...</td>\n",
       "      <td>1</td>\n",
       "    </tr>\n",
       "    <tr>\n",
       "      <th>1</th>\n",
       "      <td>4</td>\n",
       "      <td>NaN</td>\n",
       "      <td>NaN</td>\n",
       "      <td>Forest fire near La Ronge Sask. Canada</td>\n",
       "      <td>1</td>\n",
       "    </tr>\n",
       "    <tr>\n",
       "      <th>2</th>\n",
       "      <td>5</td>\n",
       "      <td>NaN</td>\n",
       "      <td>NaN</td>\n",
       "      <td>All residents asked to 'shelter in place' are ...</td>\n",
       "      <td>1</td>\n",
       "    </tr>\n",
       "    <tr>\n",
       "      <th>3</th>\n",
       "      <td>6</td>\n",
       "      <td>NaN</td>\n",
       "      <td>NaN</td>\n",
       "      <td>13,000 people receive #wildfires evacuation or...</td>\n",
       "      <td>1</td>\n",
       "    </tr>\n",
       "    <tr>\n",
       "      <th>4</th>\n",
       "      <td>7</td>\n",
       "      <td>NaN</td>\n",
       "      <td>NaN</td>\n",
       "      <td>Just got sent this photo from Ruby #Alaska as ...</td>\n",
       "      <td>1</td>\n",
       "    </tr>\n",
       "  </tbody>\n",
       "</table>\n",
       "</div>"
      ],
      "text/plain": [
       "   id keyword location                                               text  \\\n",
       "0   1     NaN      NaN  Our Deeds are the Reason of this #earthquake M...   \n",
       "1   4     NaN      NaN             Forest fire near La Ronge Sask. Canada   \n",
       "2   5     NaN      NaN  All residents asked to 'shelter in place' are ...   \n",
       "3   6     NaN      NaN  13,000 people receive #wildfires evacuation or...   \n",
       "4   7     NaN      NaN  Just got sent this photo from Ruby #Alaska as ...   \n",
       "\n",
       "   target  \n",
       "0       1  \n",
       "1       1  \n",
       "2       1  \n",
       "3       1  \n",
       "4       1  "
      ]
     },
     "execution_count": 5,
     "metadata": {},
     "output_type": "execute_result"
    }
   ],
   "source": [
    "TrainSet.head()"
   ]
  },
  {
   "cell_type": "code",
   "execution_count": 6,
   "id": "8b5c05a4",
   "metadata": {
    "execution": {
     "iopub.execute_input": "2022-10-14T00:50:24.451390Z",
     "iopub.status.busy": "2022-10-14T00:50:24.450419Z",
     "iopub.status.idle": "2022-10-14T00:50:24.461621Z",
     "shell.execute_reply": "2022-10-14T00:50:24.460065Z"
    },
    "papermill": {
     "duration": 0.024715,
     "end_time": "2022-10-14T00:50:24.465080",
     "exception": false,
     "start_time": "2022-10-14T00:50:24.440365",
     "status": "completed"
    },
    "tags": []
   },
   "outputs": [],
   "source": [
    "# get text and label from TrainSet\n",
    "Traintext=TrainSet['text'].values\n",
    "Trainlabel=TrainSet['target'].values"
   ]
  },
  {
   "cell_type": "code",
   "execution_count": 7,
   "id": "60533cc2",
   "metadata": {
    "execution": {
     "iopub.execute_input": "2022-10-14T00:50:24.485063Z",
     "iopub.status.busy": "2022-10-14T00:50:24.483752Z",
     "iopub.status.idle": "2022-10-14T00:50:24.492328Z",
     "shell.execute_reply": "2022-10-14T00:50:24.491063Z"
    },
    "papermill": {
     "duration": 0.021256,
     "end_time": "2022-10-14T00:50:24.494955",
     "exception": false,
     "start_time": "2022-10-14T00:50:24.473699",
     "status": "completed"
    },
    "tags": []
   },
   "outputs": [
    {
     "data": {
      "text/plain": [
       "(7613,)"
      ]
     },
     "execution_count": 7,
     "metadata": {},
     "output_type": "execute_result"
    }
   ],
   "source": [
    "Trainlabel.shape"
   ]
  },
  {
   "cell_type": "code",
   "execution_count": 8,
   "id": "aaf47e96",
   "metadata": {
    "execution": {
     "iopub.execute_input": "2022-10-14T00:50:24.514139Z",
     "iopub.status.busy": "2022-10-14T00:50:24.513189Z",
     "iopub.status.idle": "2022-10-14T00:50:24.519522Z",
     "shell.execute_reply": "2022-10-14T00:50:24.518477Z"
    },
    "papermill": {
     "duration": 0.020043,
     "end_time": "2022-10-14T00:50:24.523250",
     "exception": false,
     "start_time": "2022-10-14T00:50:24.503207",
     "status": "completed"
    },
    "tags": []
   },
   "outputs": [],
   "source": [
    "Valt=Traintext[:1000]\n",
    "Valla=Trainlabel[:1000]\n",
    "Traint=Traintext[1000:]\n",
    "Trainla=Trainlabel[1000:]"
   ]
  },
  {
   "cell_type": "code",
   "execution_count": 9,
   "id": "9e8ae2e0",
   "metadata": {
    "execution": {
     "iopub.execute_input": "2022-10-14T00:50:24.543715Z",
     "iopub.status.busy": "2022-10-14T00:50:24.542723Z",
     "iopub.status.idle": "2022-10-14T00:50:24.549920Z",
     "shell.execute_reply": "2022-10-14T00:50:24.548926Z"
    },
    "papermill": {
     "duration": 0.020608,
     "end_time": "2022-10-14T00:50:24.552369",
     "exception": false,
     "start_time": "2022-10-14T00:50:24.531761",
     "status": "completed"
    },
    "tags": []
   },
   "outputs": [],
   "source": [
    "# remove stop words\n",
    "def removeStopW(sent:list):\n",
    "    sentence=[]\n",
    "    for sen in sent:\n",
    "        make=\"\"\n",
    "        for word in str(sen).lower().split():\n",
    "            if word not in stopword:\n",
    "                make=make+word+\" \"\n",
    "        sentence.append(make.strip())\n",
    "    return sentence"
   ]
  },
  {
   "cell_type": "code",
   "execution_count": 10,
   "id": "820385d5",
   "metadata": {
    "execution": {
     "iopub.execute_input": "2022-10-14T00:50:24.572650Z",
     "iopub.status.busy": "2022-10-14T00:50:24.571341Z",
     "iopub.status.idle": "2022-10-14T00:50:24.878368Z",
     "shell.execute_reply": "2022-10-14T00:50:24.877393Z"
    },
    "papermill": {
     "duration": 0.319875,
     "end_time": "2022-10-14T00:50:24.881443",
     "exception": false,
     "start_time": "2022-10-14T00:50:24.561568",
     "status": "completed"
    },
    "tags": []
   },
   "outputs": [],
   "source": [
    "TraintR=removeStopW(list(Traint))\n",
    "ValtR=removeStopW(list(Valt))\n"
   ]
  },
  {
   "cell_type": "code",
   "execution_count": 11,
   "id": "913e17bb",
   "metadata": {
    "execution": {
     "iopub.execute_input": "2022-10-14T00:50:24.903534Z",
     "iopub.status.busy": "2022-10-14T00:50:24.901820Z",
     "iopub.status.idle": "2022-10-14T00:50:31.282323Z",
     "shell.execute_reply": "2022-10-14T00:50:31.280819Z"
    },
    "papermill": {
     "duration": 6.39499,
     "end_time": "2022-10-14T00:50:31.285652",
     "exception": false,
     "start_time": "2022-10-14T00:50:24.890662",
     "status": "completed"
    },
    "tags": []
   },
   "outputs": [],
   "source": [
    "# working with deep learning model\n",
    "import tensorflow as tf"
   ]
  },
  {
   "cell_type": "code",
   "execution_count": 12,
   "id": "e9caa4c8",
   "metadata": {
    "execution": {
     "iopub.execute_input": "2022-10-14T00:50:31.305554Z",
     "iopub.status.busy": "2022-10-14T00:50:31.303380Z",
     "iopub.status.idle": "2022-10-14T00:50:32.704230Z",
     "shell.execute_reply": "2022-10-14T00:50:32.702537Z"
    },
    "papermill": {
     "duration": 1.413708,
     "end_time": "2022-10-14T00:50:32.707415",
     "exception": false,
     "start_time": "2022-10-14T00:50:31.293707",
     "status": "completed"
    },
    "tags": []
   },
   "outputs": [],
   "source": [
    "# preprocessing data\n",
    "oov_token='<OOV>'\n",
    "Tokenizer=tf.keras.preprocessing.text.Tokenizer(oov_token=oov_token)"
   ]
  },
  {
   "cell_type": "code",
   "execution_count": 13,
   "id": "c81ed33a",
   "metadata": {
    "execution": {
     "iopub.execute_input": "2022-10-14T00:50:32.725616Z",
     "iopub.status.busy": "2022-10-14T00:50:32.725100Z",
     "iopub.status.idle": "2022-10-14T00:50:32.920763Z",
     "shell.execute_reply": "2022-10-14T00:50:32.919265Z"
    },
    "papermill": {
     "duration": 0.208632,
     "end_time": "2022-10-14T00:50:32.924018",
     "exception": false,
     "start_time": "2022-10-14T00:50:32.715386",
     "status": "completed"
    },
    "tags": []
   },
   "outputs": [],
   "source": [
    "Tokenizer.fit_on_texts(TraintR)"
   ]
  },
  {
   "cell_type": "code",
   "execution_count": 14,
   "id": "1e40c2f9",
   "metadata": {
    "execution": {
     "iopub.execute_input": "2022-10-14T00:50:32.941867Z",
     "iopub.status.busy": "2022-10-14T00:50:32.941378Z",
     "iopub.status.idle": "2022-10-14T00:50:32.949487Z",
     "shell.execute_reply": "2022-10-14T00:50:32.947950Z"
    },
    "papermill": {
     "duration": 0.020202,
     "end_time": "2022-10-14T00:50:32.952124",
     "exception": false,
     "start_time": "2022-10-14T00:50:32.931922",
     "status": "completed"
    },
    "tags": []
   },
   "outputs": [
    {
     "data": {
      "text/plain": [
       "20385"
      ]
     },
     "execution_count": 14,
     "metadata": {},
     "output_type": "execute_result"
    }
   ],
   "source": [
    "len(Tokenizer.word_index)"
   ]
  },
  {
   "cell_type": "code",
   "execution_count": 15,
   "id": "acf0b5f4",
   "metadata": {
    "execution": {
     "iopub.execute_input": "2022-10-14T00:50:32.970369Z",
     "iopub.status.busy": "2022-10-14T00:50:32.969847Z",
     "iopub.status.idle": "2022-10-14T00:50:33.108404Z",
     "shell.execute_reply": "2022-10-14T00:50:33.107159Z"
    },
    "papermill": {
     "duration": 0.151446,
     "end_time": "2022-10-14T00:50:33.111507",
     "exception": false,
     "start_time": "2022-10-14T00:50:32.960061",
     "status": "completed"
    },
    "tags": []
   },
   "outputs": [],
   "source": [
    "TrainSeq=Tokenizer.texts_to_sequences(TraintR)\n",
    "ValSeq=Tokenizer.texts_to_sequences(ValtR)"
   ]
  },
  {
   "cell_type": "code",
   "execution_count": 16,
   "id": "ce380396",
   "metadata": {
    "execution": {
     "iopub.execute_input": "2022-10-14T00:50:33.129156Z",
     "iopub.status.busy": "2022-10-14T00:50:33.128710Z",
     "iopub.status.idle": "2022-10-14T00:50:33.160919Z",
     "shell.execute_reply": "2022-10-14T00:50:33.159650Z"
    },
    "papermill": {
     "duration": 0.04432,
     "end_time": "2022-10-14T00:50:33.163694",
     "exception": false,
     "start_time": "2022-10-14T00:50:33.119374",
     "status": "completed"
    },
    "tags": []
   },
   "outputs": [],
   "source": [
    "# padding the sequence\n",
    "Trainpad=tf.keras.preprocessing.sequence.pad_sequences(TrainSeq,padding='post')\n",
    "Valpad=tf.keras.preprocessing.sequence.pad_sequences(ValSeq,padding='post',maxlen=Trainpad.shape[1])"
   ]
  },
  {
   "cell_type": "code",
   "execution_count": 17,
   "id": "08803846",
   "metadata": {
    "execution": {
     "iopub.execute_input": "2022-10-14T00:50:33.181662Z",
     "iopub.status.busy": "2022-10-14T00:50:33.180904Z",
     "iopub.status.idle": "2022-10-14T00:50:33.188984Z",
     "shell.execute_reply": "2022-10-14T00:50:33.187999Z"
    },
    "papermill": {
     "duration": 0.019796,
     "end_time": "2022-10-14T00:50:33.191383",
     "exception": false,
     "start_time": "2022-10-14T00:50:33.171587",
     "status": "completed"
    },
    "tags": []
   },
   "outputs": [
    {
     "data": {
      "text/plain": [
       "28"
      ]
     },
     "execution_count": 17,
     "metadata": {},
     "output_type": "execute_result"
    }
   ],
   "source": [
    "Trainpad.shape[1]\n"
   ]
  },
  {
   "cell_type": "code",
   "execution_count": 18,
   "id": "760ad263",
   "metadata": {
    "execution": {
     "iopub.execute_input": "2022-10-14T00:50:33.210746Z",
     "iopub.status.busy": "2022-10-14T00:50:33.209782Z",
     "iopub.status.idle": "2022-10-14T00:50:34.551209Z",
     "shell.execute_reply": "2022-10-14T00:50:34.549799Z"
    },
    "papermill": {
     "duration": 1.354826,
     "end_time": "2022-10-14T00:50:34.554433",
     "exception": false,
     "start_time": "2022-10-14T00:50:33.199607",
     "status": "completed"
    },
    "tags": []
   },
   "outputs": [
    {
     "name": "stderr",
     "output_type": "stream",
     "text": [
      "2022-10-14 00:50:33.273728: I tensorflow/core/common_runtime/process_util.cc:146] Creating new thread pool with default inter op setting: 2. Tune using inter_op_parallelism_threads for best performance.\n"
     ]
    }
   ],
   "source": [
    "# create a mode\n",
    "model=tf.keras.Sequential(\n",
    "[\n",
    "    tf.keras.layers.Embedding(len(Tokenizer.word_index)+1,100,input_length=Trainpad.shape[1]),\n",
    "    tf.keras.layers.Bidirectional(tf.keras.layers.LSTM(100,dropout=0.2,return_sequences=True)),\n",
    "    tf.keras.layers.Bidirectional(tf.keras.layers.LSTM(100,dropout=0.2,return_sequences=False)),\n",
    "    tf.keras.layers.Flatten(),\n",
    "    tf.keras.layers.Dense(50,activation='relu'),\n",
    "    tf.keras.layers.Dropout(0.01),\n",
    "    tf.keras.layers.Dense(20, activation = \"relu\"),\n",
    "    tf.keras.layers.Dense(1,activation='sigmoid')\n",
    "    \n",
    "])\n"
   ]
  },
  {
   "cell_type": "code",
   "execution_count": 19,
   "id": "f3ff9760",
   "metadata": {
    "execution": {
     "iopub.execute_input": "2022-10-14T00:50:34.573853Z",
     "iopub.status.busy": "2022-10-14T00:50:34.573370Z",
     "iopub.status.idle": "2022-10-14T00:50:34.582381Z",
     "shell.execute_reply": "2022-10-14T00:50:34.581030Z"
    },
    "papermill": {
     "duration": 0.022403,
     "end_time": "2022-10-14T00:50:34.585166",
     "exception": false,
     "start_time": "2022-10-14T00:50:34.562763",
     "status": "completed"
    },
    "tags": []
   },
   "outputs": [
    {
     "name": "stdout",
     "output_type": "stream",
     "text": [
      "Model: \"sequential\"\n",
      "_________________________________________________________________\n",
      "Layer (type)                 Output Shape              Param #   \n",
      "=================================================================\n",
      "embedding (Embedding)        (None, 28, 100)           2038600   \n",
      "_________________________________________________________________\n",
      "bidirectional (Bidirectional (None, 28, 200)           160800    \n",
      "_________________________________________________________________\n",
      "bidirectional_1 (Bidirection (None, 200)               240800    \n",
      "_________________________________________________________________\n",
      "flatten (Flatten)            (None, 200)               0         \n",
      "_________________________________________________________________\n",
      "dense (Dense)                (None, 50)                10050     \n",
      "_________________________________________________________________\n",
      "dropout (Dropout)            (None, 50)                0         \n",
      "_________________________________________________________________\n",
      "dense_1 (Dense)              (None, 20)                1020      \n",
      "_________________________________________________________________\n",
      "dense_2 (Dense)              (None, 1)                 21        \n",
      "=================================================================\n",
      "Total params: 2,451,291\n",
      "Trainable params: 2,451,291\n",
      "Non-trainable params: 0\n",
      "_________________________________________________________________\n"
     ]
    }
   ],
   "source": [
    "model.summary()"
   ]
  },
  {
   "cell_type": "code",
   "execution_count": 20,
   "id": "faa20999",
   "metadata": {
    "execution": {
     "iopub.execute_input": "2022-10-14T00:50:34.604629Z",
     "iopub.status.busy": "2022-10-14T00:50:34.603796Z",
     "iopub.status.idle": "2022-10-14T00:50:34.622678Z",
     "shell.execute_reply": "2022-10-14T00:50:34.621578Z"
    },
    "papermill": {
     "duration": 0.031786,
     "end_time": "2022-10-14T00:50:34.625367",
     "exception": false,
     "start_time": "2022-10-14T00:50:34.593581",
     "status": "completed"
    },
    "tags": []
   },
   "outputs": [],
   "source": [
    "model.compile(optimizer='adam',loss='binary_crossentropy',metrics=['accuracy'])"
   ]
  },
  {
   "cell_type": "code",
   "execution_count": 21,
   "id": "90cca92e",
   "metadata": {
    "execution": {
     "iopub.execute_input": "2022-10-14T00:50:34.645010Z",
     "iopub.status.busy": "2022-10-14T00:50:34.643830Z",
     "iopub.status.idle": "2022-10-14T00:52:54.586127Z",
     "shell.execute_reply": "2022-10-14T00:52:54.584244Z"
    },
    "papermill": {
     "duration": 139.955631,
     "end_time": "2022-10-14T00:52:54.589177",
     "exception": false,
     "start_time": "2022-10-14T00:50:34.633546",
     "status": "completed"
    },
    "tags": []
   },
   "outputs": [
    {
     "name": "stderr",
     "output_type": "stream",
     "text": [
      "2022-10-14 00:50:34.715455: I tensorflow/compiler/mlir/mlir_graph_optimization_pass.cc:185] None of the MLIR Optimization Passes are enabled (registered 2)\n"
     ]
    },
    {
     "name": "stdout",
     "output_type": "stream",
     "text": [
      "Epoch 1/20\n",
      "104/104 [==============================] - 29s 198ms/step - loss: 0.5699 - accuracy: 0.6964 - val_loss: 0.4738 - val_accuracy: 0.7920\n",
      "Epoch 2/20\n",
      "104/104 [==============================] - 19s 179ms/step - loss: 0.2936 - accuracy: 0.8895 - val_loss: 0.6208 - val_accuracy: 0.7590\n",
      "Epoch 3/20\n",
      "104/104 [==============================] - 18s 169ms/step - loss: 0.1326 - accuracy: 0.9566 - val_loss: 0.7812 - val_accuracy: 0.6750\n",
      "Epoch 4/20\n",
      "104/104 [==============================] - 19s 182ms/step - loss: 0.0766 - accuracy: 0.9781 - val_loss: 0.7383 - val_accuracy: 0.7380\n",
      "Epoch 5/20\n",
      "104/104 [==============================] - 18s 172ms/step - loss: 0.0454 - accuracy: 0.9874 - val_loss: 0.9987 - val_accuracy: 0.7080\n",
      "Epoch 6/20\n",
      "104/104 [==============================] - 18s 178ms/step - loss: 0.0316 - accuracy: 0.9921 - val_loss: 0.9686 - val_accuracy: 0.7250\n",
      "Epoch 7/20\n",
      "104/104 [==============================] - 19s 183ms/step - loss: 0.0260 - accuracy: 0.9933 - val_loss: 0.9633 - val_accuracy: 0.7480\n"
     ]
    },
    {
     "data": {
      "text/plain": [
       "<keras.callbacks.History at 0x7f3beeec31d0>"
      ]
     },
     "execution_count": 21,
     "metadata": {},
     "output_type": "execute_result"
    }
   ],
   "source": [
    "model.fit(Trainpad,Trainla,validation_data=(Valpad,Valla),epochs=20,batch_size=64,callbacks=tf.keras.callbacks.EarlyStopping(patience=6))"
   ]
  },
  {
   "cell_type": "code",
   "execution_count": 22,
   "id": "31b3c758",
   "metadata": {
    "execution": {
     "iopub.execute_input": "2022-10-14T00:52:54.705315Z",
     "iopub.status.busy": "2022-10-14T00:52:54.703670Z",
     "iopub.status.idle": "2022-10-14T00:52:55.931556Z",
     "shell.execute_reply": "2022-10-14T00:52:55.930523Z"
    },
    "papermill": {
     "duration": 1.289719,
     "end_time": "2022-10-14T00:52:55.935137",
     "exception": false,
     "start_time": "2022-10-14T00:52:54.645418",
     "status": "completed"
    },
    "tags": []
   },
   "outputs": [
    {
     "name": "stdout",
     "output_type": "stream",
     "text": [
      "32/32 [==============================] - 1s 35ms/step - loss: 0.9633 - accuracy: 0.7480\n"
     ]
    },
    {
     "data": {
      "text/plain": [
       "[0.9633233547210693, 0.7480000257492065]"
      ]
     },
     "execution_count": 22,
     "metadata": {},
     "output_type": "execute_result"
    }
   ],
   "source": [
    "model.evaluate(Valpad,Valla)"
   ]
  },
  {
   "cell_type": "code",
   "execution_count": 23,
   "id": "79980431",
   "metadata": {
    "execution": {
     "iopub.execute_input": "2022-10-14T00:52:56.047228Z",
     "iopub.status.busy": "2022-10-14T00:52:56.046661Z",
     "iopub.status.idle": "2022-10-14T00:52:56.063363Z",
     "shell.execute_reply": "2022-10-14T00:52:56.061423Z"
    },
    "papermill": {
     "duration": 0.07547,
     "end_time": "2022-10-14T00:52:56.066292",
     "exception": false,
     "start_time": "2022-10-14T00:52:55.990822",
     "status": "completed"
    },
    "tags": []
   },
   "outputs": [
    {
     "data": {
      "text/html": [
       "<div>\n",
       "<style scoped>\n",
       "    .dataframe tbody tr th:only-of-type {\n",
       "        vertical-align: middle;\n",
       "    }\n",
       "\n",
       "    .dataframe tbody tr th {\n",
       "        vertical-align: top;\n",
       "    }\n",
       "\n",
       "    .dataframe thead th {\n",
       "        text-align: right;\n",
       "    }\n",
       "</style>\n",
       "<table border=\"1\" class=\"dataframe\">\n",
       "  <thead>\n",
       "    <tr style=\"text-align: right;\">\n",
       "      <th></th>\n",
       "      <th>id</th>\n",
       "      <th>target</th>\n",
       "    </tr>\n",
       "  </thead>\n",
       "  <tbody>\n",
       "    <tr>\n",
       "      <th>0</th>\n",
       "      <td>0</td>\n",
       "      <td>0</td>\n",
       "    </tr>\n",
       "    <tr>\n",
       "      <th>1</th>\n",
       "      <td>2</td>\n",
       "      <td>0</td>\n",
       "    </tr>\n",
       "    <tr>\n",
       "      <th>2</th>\n",
       "      <td>3</td>\n",
       "      <td>0</td>\n",
       "    </tr>\n",
       "    <tr>\n",
       "      <th>3</th>\n",
       "      <td>9</td>\n",
       "      <td>0</td>\n",
       "    </tr>\n",
       "    <tr>\n",
       "      <th>4</th>\n",
       "      <td>11</td>\n",
       "      <td>0</td>\n",
       "    </tr>\n",
       "    <tr>\n",
       "      <th>...</th>\n",
       "      <td>...</td>\n",
       "      <td>...</td>\n",
       "    </tr>\n",
       "    <tr>\n",
       "      <th>3258</th>\n",
       "      <td>10861</td>\n",
       "      <td>0</td>\n",
       "    </tr>\n",
       "    <tr>\n",
       "      <th>3259</th>\n",
       "      <td>10865</td>\n",
       "      <td>0</td>\n",
       "    </tr>\n",
       "    <tr>\n",
       "      <th>3260</th>\n",
       "      <td>10868</td>\n",
       "      <td>0</td>\n",
       "    </tr>\n",
       "    <tr>\n",
       "      <th>3261</th>\n",
       "      <td>10874</td>\n",
       "      <td>0</td>\n",
       "    </tr>\n",
       "    <tr>\n",
       "      <th>3262</th>\n",
       "      <td>10875</td>\n",
       "      <td>0</td>\n",
       "    </tr>\n",
       "  </tbody>\n",
       "</table>\n",
       "<p>3263 rows × 2 columns</p>\n",
       "</div>"
      ],
      "text/plain": [
       "         id  target\n",
       "0         0       0\n",
       "1         2       0\n",
       "2         3       0\n",
       "3         9       0\n",
       "4        11       0\n",
       "...     ...     ...\n",
       "3258  10861       0\n",
       "3259  10865       0\n",
       "3260  10868       0\n",
       "3261  10874       0\n",
       "3262  10875       0\n",
       "\n",
       "[3263 rows x 2 columns]"
      ]
     },
     "execution_count": 23,
     "metadata": {},
     "output_type": "execute_result"
    }
   ],
   "source": [
    "SubSet"
   ]
  },
  {
   "cell_type": "code",
   "execution_count": 24,
   "id": "7e64bc8c",
   "metadata": {
    "execution": {
     "iopub.execute_input": "2022-10-14T00:52:56.183408Z",
     "iopub.status.busy": "2022-10-14T00:52:56.182844Z",
     "iopub.status.idle": "2022-10-14T00:52:56.189593Z",
     "shell.execute_reply": "2022-10-14T00:52:56.188359Z"
    },
    "papermill": {
     "duration": 0.070365,
     "end_time": "2022-10-14T00:52:56.192097",
     "exception": false,
     "start_time": "2022-10-14T00:52:56.121732",
     "status": "completed"
    },
    "tags": []
   },
   "outputs": [],
   "source": [
    "Testtext=TestSet['text'].values"
   ]
  },
  {
   "cell_type": "code",
   "execution_count": 25,
   "id": "cfd9e145",
   "metadata": {
    "execution": {
     "iopub.execute_input": "2022-10-14T00:52:56.308842Z",
     "iopub.status.busy": "2022-10-14T00:52:56.308283Z",
     "iopub.status.idle": "2022-10-14T00:52:56.460205Z",
     "shell.execute_reply": "2022-10-14T00:52:56.459172Z"
    },
    "papermill": {
     "duration": 0.213194,
     "end_time": "2022-10-14T00:52:56.463219",
     "exception": false,
     "start_time": "2022-10-14T00:52:56.250025",
     "status": "completed"
    },
    "tags": []
   },
   "outputs": [],
   "source": [
    "Testtext=removeStopW(Testtext)"
   ]
  },
  {
   "cell_type": "code",
   "execution_count": 26,
   "id": "eb5e3b4f",
   "metadata": {
    "execution": {
     "iopub.execute_input": "2022-10-14T00:52:56.576942Z",
     "iopub.status.busy": "2022-10-14T00:52:56.575333Z",
     "iopub.status.idle": "2022-10-14T00:52:56.661109Z",
     "shell.execute_reply": "2022-10-14T00:52:56.659794Z"
    },
    "papermill": {
     "duration": 0.147219,
     "end_time": "2022-10-14T00:52:56.664283",
     "exception": false,
     "start_time": "2022-10-14T00:52:56.517064",
     "status": "completed"
    },
    "tags": []
   },
   "outputs": [],
   "source": [
    "Testpad=tf.keras.preprocessing.sequence.pad_sequences(Tokenizer.texts_to_sequences(Testtext),padding='post',maxlen=Trainpad.shape[1])"
   ]
  },
  {
   "cell_type": "code",
   "execution_count": 27,
   "id": "f7d5cf21",
   "metadata": {
    "execution": {
     "iopub.execute_input": "2022-10-14T00:52:56.781237Z",
     "iopub.status.busy": "2022-10-14T00:52:56.780378Z",
     "iopub.status.idle": "2022-10-14T00:53:02.145574Z",
     "shell.execute_reply": "2022-10-14T00:53:02.143572Z"
    },
    "papermill": {
     "duration": 5.428218,
     "end_time": "2022-10-14T00:53:02.149890",
     "exception": false,
     "start_time": "2022-10-14T00:52:56.721672",
     "status": "completed"
    },
    "tags": []
   },
   "outputs": [],
   "source": [
    "predVal=model.predict(Testpad)"
   ]
  },
  {
   "cell_type": "code",
   "execution_count": 28,
   "id": "dd141e9a",
   "metadata": {
    "execution": {
     "iopub.execute_input": "2022-10-14T00:53:02.274346Z",
     "iopub.status.busy": "2022-10-14T00:53:02.273883Z",
     "iopub.status.idle": "2022-10-14T00:53:02.469552Z",
     "shell.execute_reply": "2022-10-14T00:53:02.468222Z"
    },
    "papermill": {
     "duration": 0.261569,
     "end_time": "2022-10-14T00:53:02.473066",
     "exception": false,
     "start_time": "2022-10-14T00:53:02.211497",
     "status": "completed"
    },
    "tags": []
   },
   "outputs": [],
   "source": [
    "for i in range(predVal.shape[0]):\n",
    "    SubSet['target'][i]=int(np.round(predVal[i]))\n",
    "    \n"
   ]
  },
  {
   "cell_type": "code",
   "execution_count": 29,
   "id": "36424f7f",
   "metadata": {
    "execution": {
     "iopub.execute_input": "2022-10-14T00:53:02.594289Z",
     "iopub.status.busy": "2022-10-14T00:53:02.593531Z",
     "iopub.status.idle": "2022-10-14T00:53:02.607647Z",
     "shell.execute_reply": "2022-10-14T00:53:02.606509Z"
    },
    "papermill": {
     "duration": 0.077928,
     "end_time": "2022-10-14T00:53:02.610707",
     "exception": false,
     "start_time": "2022-10-14T00:53:02.532779",
     "status": "completed"
    },
    "tags": []
   },
   "outputs": [],
   "source": [
    "SubSet.to_csv(\"Submision.csv\")"
   ]
  },
  {
   "cell_type": "code",
   "execution_count": null,
   "id": "4697a6d3",
   "metadata": {
    "papermill": {
     "duration": 0.061581,
     "end_time": "2022-10-14T00:53:02.734903",
     "exception": false,
     "start_time": "2022-10-14T00:53:02.673322",
     "status": "completed"
    },
    "tags": []
   },
   "outputs": [],
   "source": []
  }
 ],
 "metadata": {
  "kernelspec": {
   "display_name": "Python 3",
   "language": "python",
   "name": "python3"
  },
  "language_info": {
   "codemirror_mode": {
    "name": "ipython",
    "version": 3
   },
   "file_extension": ".py",
   "mimetype": "text/x-python",
   "name": "python",
   "nbconvert_exporter": "python",
   "pygments_lexer": "ipython3",
   "version": "3.7.12"
  },
  "papermill": {
   "default_parameters": {},
   "duration": 176.509016,
   "end_time": "2022-10-14T00:53:06.175271",
   "environment_variables": {},
   "exception": null,
   "input_path": "__notebook__.ipynb",
   "output_path": "__notebook__.ipynb",
   "parameters": {},
   "start_time": "2022-10-14T00:50:09.666255",
   "version": "2.3.4"
  }
 },
 "nbformat": 4,
 "nbformat_minor": 5
}
